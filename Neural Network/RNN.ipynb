{
 "cells": [
  {
   "cell_type": "markdown",
   "metadata": {},
   "source": [
    "Let's first grab the necessary libraries\n",
    "----"
   ]
  },
  {
   "cell_type": "code",
   "execution_count": 1,
   "metadata": {},
   "outputs": [],
   "source": [
    "import tensorflow as tf\n",
    "import numpy as np"
   ]
  },
  {
   "cell_type": "markdown",
   "metadata": {},
   "source": [
    "Now, let's get the basic structure of the RNN in Tensorflow\n",
    "---"
   ]
  },
  {
   "cell_type": "code",
   "execution_count": 2,
   "metadata": {},
   "outputs": [],
   "source": [
    "# Basic structure of the RNN\n",
    "n_inputs  = 3\n",
    "n_neurons = 5\n",
    "\n",
    "# Input Matrix Layers\n",
    "X0 = tf.placeholder(tf.float32, [None, n_inputs])\n",
    "X1 = tf.placeholder(tf.float32, [None, n_inputs])\n",
    "\n",
    "# Output connection weights\n",
    "Wx = tf.Variable(tf.random_normal(shape=[n_inputs, n_neurons], dtype=tf.float32))\n",
    "\n",
    "# Input connection weights\n",
    "Wy = tf.Variable(tf.random_normal(shape=[n_inputs, n_neurons], dtype=tf.float32))\n",
    "\n",
    "# Bias term\n",
    "b  = tf.Variable(tf.zeros([1, n_neurons], dtype=tf.float32))\n",
    "\n",
    "# Output Matrix Layers\n",
    "Y0 = tf.tanh(tf.matmul(X0, Wx) + b)\n",
    "Y1 = tf.tanh(tf.matmul(X0, Wy) + tf.matmul(X1, Wx) + b)\n",
    "\n",
    "# Create a Global Variable creation method\n",
    "init = tf.global_variables_initializer()"
   ]
  },
  {
   "cell_type": "markdown",
   "metadata": {},
   "source": [
    "Great! Now we've got a Two-Layer Feedforward Neural Network!\n",
    "---\n",
    "Let's give it minibatch capabilities."
   ]
  },
  {
   "cell_type": "code",
   "execution_count": 3,
   "metadata": {},
   "outputs": [
    {
     "name": "stdout",
     "output_type": "stream",
     "text": [
      "[[ 0.48568213  0.99465543  0.9956983   0.1421937  -0.73680246]\n",
      " [-0.054739    1.          0.9999998   0.99980026  0.07819676]\n",
      " [-0.56488687  1.          1.          1.          0.8005569 ]\n",
      " [-0.9999931   0.998329   -0.99933213  1.          0.9923835 ]]\n",
      "[[-0.99911094  1.          1.          1.          0.9999999 ]\n",
      " [-0.9977052   1.         -0.989354   -1.          1.        ]\n",
      " [-0.99999803  1.          0.95064473 -1.          1.        ]\n",
      " [ 0.99419284  1.         -0.99481493 -1.          1.        ]]\n"
     ]
    }
   ],
   "source": [
    "# Mini-batch:\n",
    "X0_batch = np.array([[0, 1, 2], [3, 4, 5], [6, 7, 8], [9, 0, 1]])\n",
    "X1_batch = np.array([[9, 8, 7], [0, 0, 0], [6, 5, 4], [3, 2, 1]])\n",
    "\n",
    "# Run the sessions\n",
    "with tf.Session() as sess:\n",
    "    init.run()\n",
    "    Y0_val, Y1_val = sess.run([Y0, Y1], feed_dict={X0: X0_batch, X1: X1_batch})\n",
    "    \n",
    "print(Y0_val) # output at t = 0\n",
    "print(Y1_val) # output at t = 1"
   ]
  },
  {
   "cell_type": "markdown",
   "metadata": {},
   "source": [
    "Static Unrolling Through Time of RNN\n",
    "---\n",
    "Instead of the basic model, let's push a tensor to the model pre-packed with mini-batch sequences."
   ]
  },
  {
   "cell_type": "code",
   "execution_count": 3,
   "metadata": {},
   "outputs": [],
   "source": [
    "# Basic structure of the RNN\n",
    "n_inputs  = 3\n",
    "n_neurons = 5\n",
    "n_steps   = 2\n",
    "\n",
    "# Prepack a tensor with n_steps worth of placeholders from n_inputs\n",
    "X = tf.placeholder(tf.float32, [None, n_steps, n_inputs])\n",
    "X_seqs = tf.unstack(tf.transpose(X, perm=[1, 0, 2]))\n",
    "\n",
    "# Setup the Tensorflow object for the RNN\n",
    "basic_cell = tf.contrib.rnn.BasicRNNCell(num_units=n_neurons)\n",
    "output_seqs, states = tf.contrib.rnn.static_rnn(basic_cell, X_seqs, dtype=tf.float32)\n",
    "\n",
    "# Formulate the output\n",
    "outputs = tf.transpose(tf.stack(output_seqs), perm=[1, 0, 2])\n",
    "\n",
    "init = tf.global_variables_initializer()"
   ]
  },
  {
   "cell_type": "markdown",
   "metadata": {},
   "source": [
    "Now we've got a Static RNN Module ready to receive data\n",
    "---\n",
    "Let's pack the tensor, and start the job just like before."
   ]
  },
  {
   "cell_type": "code",
   "execution_count": 4,
   "metadata": {},
   "outputs": [
    {
     "name": "stdout",
     "output_type": "stream",
     "text": [
      "[[[-3.5058382e-01  1.5799947e-01 -9.2109334e-01 -8.1341058e-01\n",
      "    2.6493451e-01]\n",
      "  [ 9.5667464e-01 -9.9999887e-01 -9.9850333e-01 -9.9822176e-01\n",
      "    9.9996877e-01]]\n",
      "\n",
      " [[ 1.8639387e-01 -9.6400917e-01 -9.9784625e-01 -9.8885560e-01\n",
      "    9.4688809e-01]\n",
      "  [ 3.9655499e-02 -7.8954637e-01  5.3778267e-01  1.5927261e-01\n",
      "    9.0873235e-01]]\n",
      "\n",
      " [[ 6.3113898e-01 -9.9951184e-01 -9.9994332e-01 -9.9938983e-01\n",
      "    9.9744189e-01]\n",
      "  [ 8.6245078e-01 -9.9997514e-01 -8.8232809e-01 -9.1973686e-01\n",
      "    9.9968272e-01]]\n",
      "\n",
      " [[-2.4933994e-01 -9.9998391e-01  9.9914992e-01 -4.6435291e-01\n",
      "    9.9999189e-01]\n",
      "  [ 9.6336168e-01 -9.7827965e-01 -6.0130131e-01 -1.7094611e-04\n",
      "    8.0779636e-01]]]\n"
     ]
    }
   ],
   "source": [
    "# Place the two steps into an np.array\n",
    "X_batch = np.array([\n",
    "    [[0, 1, 2], [9, 8, 7]],\n",
    "    [[3, 4, 5], [0, 0, 0]],\n",
    "    [[6, 7, 8], [6, 5, 4]],\n",
    "    [[9, 0, 1], [3, 2, 1]],\n",
    "])\n",
    "\n",
    "# Run the model, feeding the X_batch data into X\n",
    "with tf.Session() as sess:\n",
    "    init.run()\n",
    "    outputs_val = outputs.eval(feed_dict={X: X_batch})\n",
    "    \n",
    "# Output the final weights\n",
    "print(outputs_val)\n",
    "\n",
    "# Page 510"
   ]
  },
  {
   "cell_type": "code",
   "execution_count": null,
   "metadata": {},
   "outputs": [],
   "source": []
  },
  {
   "cell_type": "code",
   "execution_count": null,
   "metadata": {},
   "outputs": [],
   "source": []
  }
 ],
 "metadata": {
  "kernelspec": {
   "display_name": "Python [conda env:fastai]",
   "language": "python",
   "name": "conda-env-fastai-py"
  },
  "language_info": {
   "codemirror_mode": {
    "name": "ipython",
    "version": 3
   },
   "file_extension": ".py",
   "mimetype": "text/x-python",
   "name": "python",
   "nbconvert_exporter": "python",
   "pygments_lexer": "ipython3",
   "version": "3.6.4"
  }
 },
 "nbformat": 4,
 "nbformat_minor": 2
}
